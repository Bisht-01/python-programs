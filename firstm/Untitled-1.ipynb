{
 "cells": [
  {
   "cell_type": "code",
   "execution_count": 4,
   "metadata": {},
   "outputs": [],
   "source": [
    "import tkinter as tk\n",
    "from tkinter import filedialog, messagebox\n",
    "import requests\n",
    "import os\n",
    "def download_file():\n",
    "    url = url_entry.get() \n",
    "    if not url:\n",
    "        messagebox.showerror(\"Error\", \"Please enter a valid URL!\")\n",
    "        return\n",
    "\n",
    "    try:\n",
    "        response = requests.get(url, stream=True)\n",
    "        response.raise_for_status()\n",
    "    except requests.exceptions.RequestException as e:\n",
    "        messagebox.showerror(\"Download Error\", f\"Failed to download: {e}\")\n",
    "        return\n",
    "    save_path = filedialog.asksaveasfilename(\n",
    "        defaultextension=os.path.splitext(url)[1], \n",
    "        filetypes=[(\"All Files\", \"*.*\")], \n",
    "        initialfile=os.path.basename(url)\n",
    "    )\n",
    "    \n",
    "    if not save_path:\n",
    "        return\n",
    "    try:\n",
    "        with open(save_path, 'wb') as file:\n",
    "            for chunk in response.iter_content(chunk_size=8192):\n",
    "                file.write(chunk)\n",
    "\n",
    "        messagebox.showinfo(\"Success\", f\"File downloaded successfully!\\nSaved to: {save_path}\")\n",
    "    except Exception as e:\n",
    "        messagebox.showerror(\"Error\", f\"Could not save file: {e}\")\n",
    "root = tk.Tk()\n",
    "root.title(\"File Downloader\")\n",
    "tk.Label(root, text=\"Enter File URL:\").pack(pady=10)\n",
    "url_entry = tk.Entry(root, width=50)\n",
    "url_entry.pack(pady=5)\n",
    "\n",
    "download_button = tk.Button(root, text=\"Download\", command=download_file)\n",
    "download_button.pack(pady=20)\n",
    "\n",
    "root.mainloop()\n"
   ]
  }
 ],
 "metadata": {
  "kernelspec": {
   "display_name": "Python 3",
   "language": "python",
   "name": "python3"
  },
  "language_info": {
   "codemirror_mode": {
    "name": "ipython",
    "version": 3
   },
   "file_extension": ".py",
   "mimetype": "text/x-python",
   "name": "python",
   "nbconvert_exporter": "python",
   "pygments_lexer": "ipython3",
   "version": "3.12.4"
  }
 },
 "nbformat": 4,
 "nbformat_minor": 2
}
